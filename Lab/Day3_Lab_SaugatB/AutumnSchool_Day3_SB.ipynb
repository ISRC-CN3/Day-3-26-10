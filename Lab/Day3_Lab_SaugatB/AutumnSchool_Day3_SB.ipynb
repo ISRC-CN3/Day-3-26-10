{
 "cells": [
  {
   "cell_type": "code",
   "execution_count": 1,
   "id": "d3117c21",
   "metadata": {},
   "outputs": [],
   "source": [
    "import os\n",
    "import numpy as np\n",
    "from scipy.io import loadmat\n",
    "from matplotlib import pyplot as plt"
   ]
  },
  {
   "cell_type": "markdown",
   "id": "3b9ecaef",
   "metadata": {},
   "source": [
    "### The next two cells will help you start the exercise.\n",
    "\n",
    "First, we will define some constants and then load the EEG data and their corresponding label.\n",
    "\n",
    "Please read the file 'Dataset Description.pdf' for more information on the dataset and experiment."
   ]
  },
  {
   "cell_type": "code",
   "execution_count": 2,
   "id": "4cb0a7ef",
   "metadata": {},
   "outputs": [],
   "source": [
    "# constants\n",
    "channels = ['FC3', 'FCz', 'FC4', 'C5', 'C3', 'C1', 'Cz', 'C2', 'C4', 'C6', 'CP3', 'CPz', 'CP4', 'P3', 'Pz', 'P4']\n",
    "subject_id = ['15', '16', '17', '18']\n",
    "sample_rate = 256\n",
    "no_trials = 96\n",
    "no_electrodes = len(channels)\n",
    "epoch_length = int(sample_rate * 6.0)\n",
    "pre_cue = int(sample_rate * 1.0)\n",
    "save_preprocessed_epoch = True\n",
    "\n",
    "data_path = 'dataset/'\n",
    "save_path = 'results/'\n",
    "if not os.path.exists(save_path):\n",
    "    os.mkdir(save_path)"
   ]
  },
  {
   "cell_type": "code",
   "execution_count": 3,
   "id": "ff34a08a",
   "metadata": {},
   "outputs": [
    {
     "name": "stdout",
     "output_type": "stream",
     "text": [
      "(4,)\n",
      "(96, 16, 1536) (96,) -0.00874230690635525\n",
      "(96, 16, 1536) (96,) -0.005994115875539882\n",
      "(96, 16, 1536) (96,) 0.013010918133830606\n",
      "(96, 16, 1536) (96,) -0.03383564821055987\n"
     ]
    }
   ],
   "source": [
    "# load the eeg data and their corresponding labels\n",
    "classes = loadmat(data_path + 'labels.mat')['labels'][0]\n",
    "print(classes.shape)\n",
    "epochs = {}\n",
    "correctness = {}\n",
    "for sIdx, subject in enumerate(subject_id):\n",
    "    epochs[sIdx] = loadmat(data_path + 'subject' + subject + '.mat')['EEGEpoch'].T\n",
    "    correctness[sIdx] = classes[sIdx][0][0]\n",
    "    print(epochs[sIdx].shape, correctness[sIdx].shape, np.mean(epochs[sIdx]))"
   ]
  },
  {
   "cell_type": "markdown",
   "id": "06a8c826",
   "metadata": {},
   "source": [
    "### Exercises\n",
    "\n",
    "1.\tTemporal filter: Apply a low-pass filter of your choice with a cut-off at 6Hz\n",
    "a.\tPlot a sample of the filtered and raw EEG to compare the difference\n",
    "2.\tSpatial filter: Apply a Laplacian filter for the following electrodes: FCz, Cz and CPz\n",
    "a.\tPlot a sample of the filtered and raw EEG to compare the difference\n",
    "3.\tBaseline correct the (a) temporally and (b) filtered data. Use 500ms before the stimuli onset to baseline correct the data. Use the figure above to select the sample points.\n",
    "4.\tPlot the grand averages of the electrodes: Cz, FCz and CPz for the time range [1.5, 3]s, where 1 is the onset of feedback period. Use the figure above to select the sample points.\n",
    "5.\tPlot and analyze the time-frequency distribution of the (a) temporally and (b) spatially filtered signals using Morlet Wavelet. Discuss your observation with your lab tutor or partner.\n"
   ]
  }
 ],
 "metadata": {
  "kernelspec": {
   "display_name": "Python 3",
   "language": "python",
   "name": "python3"
  },
  "language_info": {
   "codemirror_mode": {
    "name": "ipython",
    "version": 3
   },
   "file_extension": ".py",
   "mimetype": "text/x-python",
   "name": "python",
   "nbconvert_exporter": "python",
   "pygments_lexer": "ipython3",
   "version": "3.8.8"
  }
 },
 "nbformat": 4,
 "nbformat_minor": 5
}
